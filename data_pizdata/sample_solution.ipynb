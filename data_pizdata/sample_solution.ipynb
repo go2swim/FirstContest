{
 "cells": [
  {
   "cell_type": "code",
   "execution_count": 4,
   "metadata": {
    "ExecuteTime": {
     "end_time": "2025-03-28T14:13:51.676300500Z",
     "start_time": "2025-03-28T14:13:51.663338800Z"
    }
   },
   "outputs": [],
   "source": [
    "import numpy as np\n",
    "import pandas as pd\n",
    "from sklearn.linear_model import Ridge\n",
    "from sklearn.metrics import root_mean_squared_error"
   ]
  },
  {
   "cell_type": "code",
   "execution_count": null,
   "metadata": {
    "is_executing": true,
    "ExecuteTime": {
     "start_time": "2025-03-28T14:18:29.225123100Z"
    }
   },
   "outputs": [],
   "source": [
    "from src.utils import load_data\n",
    "df_x_train, df_y_train, df_test = load_data('.')"
   ]
  },
  {
   "cell_type": "code",
   "execution_count": 9,
   "outputs": [
    {
     "ename": "NameError",
     "evalue": "name 'df_x_train' is not defined",
     "output_type": "error",
     "traceback": [
      "\u001B[31m---------------------------------------------------------------------------\u001B[39m",
      "\u001B[31mNameError\u001B[39m                                 Traceback (most recent call last)",
      "\u001B[36mCell\u001B[39m\u001B[36m \u001B[39m\u001B[32mIn[9]\u001B[39m\u001B[32m, line 5\u001B[39m\n\u001B[32m      1\u001B[39m \u001B[38;5;28;01mfrom\u001B[39;00m\u001B[38;5;250m \u001B[39m\u001B[34;01msrc\u001B[39;00m\u001B[34;01m.\u001B[39;00m\u001B[34;01mconst\u001B[39;00m\u001B[38;5;250m \u001B[39m\u001B[38;5;28;01mimport\u001B[39;00m RANDOM_STATE\n\u001B[32m      2\u001B[39m \u001B[38;5;28;01mfrom\u001B[39;00m\u001B[38;5;250m \u001B[39m\u001B[34;01msklearn\u001B[39;00m\u001B[34;01m.\u001B[39;00m\u001B[34;01mmodel_selection\u001B[39;00m\u001B[38;5;250m \u001B[39m\u001B[38;5;28;01mimport\u001B[39;00m train_test_split\n\u001B[32m      4\u001B[39m X_train, X_val, y_train, y_val = train_test_split(\n\u001B[32m----> \u001B[39m\u001B[32m5\u001B[39m     \u001B[43mdf_x_train\u001B[49m,\n\u001B[32m      6\u001B[39m     df_y_train[\u001B[32m0\u001B[39m],  \n\u001B[32m      7\u001B[39m     test_size=\u001B[32m0.2\u001B[39m,\n\u001B[32m      8\u001B[39m     random_state=RANDOM_STATE\n\u001B[32m      9\u001B[39m )\n",
      "\u001B[31mNameError\u001B[39m: name 'df_x_train' is not defined"
     ]
    }
   ],
   "source": [
    "from src.const import RANDOM_STATE\n",
    "from sklearn.model_selection import train_test_split\n",
    "\n",
    "X_train, X_val, y_train, y_val = train_test_split(\n",
    "    df_x_train,\n",
    "    df_y_train[0],  \n",
    "    test_size=0.2,\n",
    "    random_state=RANDOM_STATE\n",
    ")"
   ],
   "metadata": {
    "collapsed": false,
    "ExecuteTime": {
     "end_time": "2025-03-28T14:17:35.512497400Z",
     "start_time": "2025-03-28T14:17:35.483318100Z"
    }
   }
  },
  {
   "cell_type": "code",
   "execution_count": 2,
   "metadata": {
    "ExecuteTime": {
     "end_time": "2025-03-28T14:13:43.612125600Z",
     "start_time": "2025-03-28T14:13:43.238713600Z"
    }
   },
   "outputs": [
    {
     "ename": "NameError",
     "evalue": "name 'X_train' is not defined",
     "output_type": "error",
     "traceback": [
      "\u001B[31m---------------------------------------------------------------------------\u001B[39m",
      "\u001B[31mNameError\u001B[39m                                 Traceback (most recent call last)",
      "\u001B[36mCell\u001B[39m\u001B[36m \u001B[39m\u001B[32mIn[2]\u001B[39m\u001B[32m, line 4\u001B[39m\n\u001B[32m      1\u001B[39m \u001B[38;5;28;01mfrom\u001B[39;00m\u001B[38;5;250m \u001B[39m\u001B[34;01msklearn\u001B[39;00m\u001B[34;01m.\u001B[39;00m\u001B[34;01mmetrics\u001B[39;00m\u001B[38;5;250m \u001B[39m\u001B[38;5;28;01mimport\u001B[39;00m mean_squared_error\n\u001B[32m      3\u001B[39m model = Ridge()\n\u001B[32m----> \u001B[39m\u001B[32m4\u001B[39m model.fit(\u001B[43mX_train\u001B[49m, y_train)\n\u001B[32m      6\u001B[39m val_pred = model.fit(X_val)\n\u001B[32m      7\u001B[39m \u001B[38;5;28mprint\u001B[39m(\u001B[33mf\u001B[39m\u001B[33m'\u001B[39m\u001B[33mmse на валидации: \u001B[39m\u001B[38;5;132;01m{\u001B[39;00mmean_squared_error(val_pred,\u001B[38;5;250m \u001B[39my_val)\u001B[38;5;132;01m:\u001B[39;00m\u001B[33m 4f\u001B[39m\u001B[38;5;132;01m}\u001B[39;00m\u001B[33m'\u001B[39m)\n",
      "\u001B[31mNameError\u001B[39m: name 'X_train' is not defined"
     ]
    }
   ],
   "source": [
    "from sklearn.metrics import mean_squared_error\n",
    "\n",
    "model = Ridge()\n",
    "model.fit(X_train, y_train)\n",
    "\n",
    "val_pred = model.fit(X_val)\n",
    "print(f'mse на валидации: {mean_squared_error(val_pred, y_val): 4f}')"
   ]
  },
  {
   "cell_type": "code",
   "execution_count": 4,
   "metadata": {},
   "outputs": [],
   "source": [
    "predict = model.predict(X_test)"
   ]
  },
  {
   "cell_type": "code",
   "execution_count": 5,
   "metadata": {},
   "outputs": [],
   "source": [
    "sumbission = pd.DataFrame(predict, columns=['y'])\n",
    "sumbission['ID'] = list(range(len(predict))) # Айдишники с ноля, по порядку, означают номер строки в X_test\n",
    "sumbission.to_csv('submission.csv', sep=',', index=False)"
   ]
  }
 ],
 "metadata": {
  "kernelspec": {
   "display_name": "venv",
   "language": "python",
   "name": "python3"
  },
  "language_info": {
   "codemirror_mode": {
    "name": "ipython",
    "version": 3
   },
   "file_extension": ".py",
   "mimetype": "text/x-python",
   "name": "python",
   "nbconvert_exporter": "python",
   "pygments_lexer": "ipython3",
   "version": "3.11.0rc1"
  }
 },
 "nbformat": 4,
 "nbformat_minor": 2
}
