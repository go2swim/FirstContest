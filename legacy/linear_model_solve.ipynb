{
 "cells": [
  {
   "cell_type": "markdown",
   "source": [
    "# Выдал метрику 384...\n",
    "## Валидация: 43.34\n",
    "Отобрал сильно корелированые фичи на основе хитмапа. Их всего 3, улучшило метрику не сильно где то на 0.02\n",
    "Добавили фичей на основе этих трёх, дало прирост 8, неплохо\n",
    "Перебрал гиперпараметр и использовал кросс валидацию, что дало минимальный прирост около 0.01\n",
    "### Вывод: линейная модель как не крути хуже чем более актуальные модели,типа деревьев"
   ],
   "metadata": {
    "collapsed": false
   },
   "id": "7bf49d3e097a89e"
  },
  {
   "cell_type": "code",
   "execution_count": 30,
   "id": "initial_id",
   "metadata": {
    "collapsed": true,
    "ExecuteTime": {
     "end_time": "2025-03-28T13:59:54.197040Z",
     "start_time": "2025-03-28T13:59:54.176988600Z"
    }
   },
   "outputs": [],
   "source": [
    "import pandas as pd\n",
    "import numpy as np\n",
    "import matplotlib.pyplot as plt\n",
    "import seaborn as sns\n",
    "import os\n",
    "from sklearn.model_selection import train_test_split\n",
    "from sklearn.metrics import mean_squared_error\n",
    "from catboost import CatBoostRegressor\n",
    "from src.const import PATH_TO_DATA, RANDOM_STATE\n",
    "from sklearn.linear_model import Ridge\n",
    "from sklearn.metrics import mean_squared_error\n",
    "\n",
    "from sklearn.model_selection import train_test_split, KFold, cross_val_score\n",
    "from sklearn.linear_model import Ridge\n",
    "from sklearn.preprocessing import PolynomialFeatures\n",
    "from sklearn.metrics import mean_squared_error\n",
    "from sklearn.model_selection import train_test_split, GridSearchCV, KFold\n",
    "from sklearn.linear_model import Ridge\n",
    "from sklearn.metrics import mean_squared_error\n",
    "from sklearn.pipeline import Pipeline\n",
    "from sklearn.preprocessing import StandardScaler\n"
   ]
  },
  {
   "cell_type": "code",
   "execution_count": 31,
   "outputs": [],
   "source": [
    "from src.utils import load_data\n",
    "df_x_train, df_y_train, df_test = load_data()"
   ],
   "metadata": {
    "collapsed": false,
    "ExecuteTime": {
     "end_time": "2025-03-28T13:59:55.977417500Z",
     "start_time": "2025-03-28T13:59:55.731156800Z"
    }
   },
   "id": "d92e5ae9826c101a"
  },
  {
   "cell_type": "code",
   "execution_count": 32,
   "outputs": [],
   "source": [
    "columns_to_drop = [4, 10, 11]  \n",
    "\n",
    "df_x_train = df_x_train[columns_to_drop]\n",
    "df_test = df_test[columns_to_drop]"
   ],
   "metadata": {
    "collapsed": false,
    "ExecuteTime": {
     "end_time": "2025-03-28T13:59:55.977417500Z",
     "start_time": "2025-03-28T13:59:55.956481600Z"
    }
   },
   "id": "3f7da53754eb0916"
  },
  {
   "cell_type": "code",
   "execution_count": 33,
   "outputs": [],
   "source": [
    "# Создадим новые признаки\n",
    "\n",
    "# 1) Полиномиальные признаки (включая взаимодействия, степень=2)\n",
    "poly = PolynomialFeatures(degree=2, include_bias=False)\n",
    "# Применяем только к обучающей части\n",
    "X_poly_train = poly.fit_transform(df_x_train)\n",
    "X_poly_test = poly.transform(df_test)\n",
    "\n",
    "# Полиномиальные фичи генерируются автоматически, но можно добавить и ручные:\n",
    "# Логарифмы, корень, обратные величины:\n",
    "log_train = np.log1p(df_x_train.clip(lower=0) + 1)  # log(x+1)\n",
    "sqrt_train = np.sqrt(df_x_train.clip(lower=0))      # sqrt(x)\n",
    "inv_train = 1 / (df_x_train.clip(lower=1))          # 1/(x+1), чтобы не было деления на 0\n",
    "\n",
    "log_test = np.log1p(df_test.clip(lower=0) + 1)\n",
    "sqrt_test = np.sqrt(df_test.clip(lower=0))\n",
    "inv_test = 1 / (df_test.clip(lower=1))\n",
    "\n",
    "# Соединяем всё вместе в один массив/фрейм\n",
    "# Обратите внимание: X_poly_train и log_train - это numpy и pandas, их нужно собрать воедино\n",
    "df_x_train = np.concatenate([\n",
    "    X_poly_train,\n",
    "    log_train.values,\n",
    "    sqrt_train.values,\n",
    "    inv_train.values\n",
    "], axis=1)\n",
    "\n",
    "df_test = np.concatenate([\n",
    "    X_poly_test,\n",
    "    log_test.values,\n",
    "    sqrt_test.values,\n",
    "    inv_test.values\n",
    "], axis=1)"
   ],
   "metadata": {
    "collapsed": false,
    "ExecuteTime": {
     "end_time": "2025-03-28T13:59:56.282729500Z",
     "start_time": "2025-03-28T13:59:56.234112Z"
    }
   },
   "id": "ef119e1f911289d7"
  },
  {
   "cell_type": "code",
   "execution_count": 34,
   "outputs": [
    {
     "data": {
      "text/plain": "array([[0.        , 0.17575848, 2.20710049, ..., 1.        , 1.        ,\n        0.45308313],\n       [1.        , 6.85149107, 2.47917775, ..., 1.        , 0.14595363,\n        0.40335954],\n       [1.        , 6.00267265, 0.78072948, ..., 1.        , 0.16659246,\n        1.        ],\n       ...,\n       [0.        , 8.08467479, 0.25196239, ..., 1.        , 0.12369081,\n        1.        ],\n       [1.        , 5.83825411, 2.51594822, ..., 1.        , 0.17128408,\n        0.39746446],\n       [1.        , 2.17421812, 0.347862  , ..., 1.        , 0.45993545,\n        1.        ]])"
     },
     "execution_count": 34,
     "metadata": {},
     "output_type": "execute_result"
    }
   ],
   "source": [
    "df_x_train"
   ],
   "metadata": {
    "collapsed": false,
    "ExecuteTime": {
     "end_time": "2025-03-28T13:59:57.781009400Z",
     "start_time": "2025-03-28T13:59:57.747522100Z"
    }
   },
   "id": "ce07540a0f5a0371"
  },
  {
   "cell_type": "code",
   "execution_count": 35,
   "outputs": [
    {
     "name": "stdout",
     "output_type": "stream",
     "text": [
      "Fitting 5 folds for each of 5 candidates, totalling 25 fits\n",
      "Лучшие параметры: {'ridge__alpha': 100.0}\n",
      "Лучшее отрицательное MSE (на кросс-валидации): -42.436581834304874\n",
      "MSE на валидации: 43.3474\n"
     ]
    }
   ],
   "source": [
    "X = df_x_train.copy()\n",
    "y = df_y_train[0].values  # или df_y_train.squeeze() если это Series\n",
    "\n",
    "# Разбиваем данные на обучающую и валидационную выборки\n",
    "X_train, X_val, y_train, y_val = train_test_split(\n",
    "    X,\n",
    "    y, \n",
    "    test_size=0.2,\n",
    "    random_state=42\n",
    ")\n",
    "\n",
    "pipeline = Pipeline([\n",
    "    ('scaler', StandardScaler()),\n",
    "    ('ridge', Ridge(random_state=42))\n",
    "])\n",
    "\n",
    "cv = KFold(n_splits=5, shuffle=True, random_state=RANDOM_STATE)\n",
    "\n",
    "param_grid = {\n",
    "    'ridge__alpha': [0.01, 0.1, 1.0, 10.0, 100.0]\n",
    "}\n",
    "\n",
    "grid_search = GridSearchCV(\n",
    "    estimator=pipeline,\n",
    "    param_grid=param_grid,\n",
    "    cv=cv,\n",
    "    scoring='neg_mean_squared_error',\n",
    "    n_jobs=-1,\n",
    "    verbose=1\n",
    ")\n",
    "\n",
    "grid_search.fit(X_train, y_train)\n",
    "\n",
    "print(\"Лучшие параметры:\", grid_search.best_params_)\n",
    "print(\"Лучшее отрицательное MSE (на кросс-валидации):\", grid_search.best_score_)\n",
    "\n",
    "val_pred = grid_search.predict(X_val)\n",
    "mse = mean_squared_error(y_val, val_pred)\n",
    "print(f\"MSE на валидации: {mse:.4f}\")"
   ],
   "metadata": {
    "collapsed": false,
    "ExecuteTime": {
     "end_time": "2025-03-28T14:00:02.033198300Z",
     "start_time": "2025-03-28T13:59:59.083367300Z"
    }
   },
   "id": "8f0e1418a6e31ca8"
  },
  {
   "cell_type": "code",
   "execution_count": 28,
   "outputs": [
    {
     "name": "stdout",
     "output_type": "stream",
     "text": [
      "MSE на валидации: 43.3486\n"
     ]
    }
   ],
   "source": [
    "# model = Ridge(random_state=RANDOM_STATE, alpha=0.1)\n",
    "# model.fit(X_train, y_train)\n",
    "# \n",
    "# val_pred = model.predict(X_val)\n",
    "# mse = mean_squared_error(y_val, val_pred)\n",
    "# print(f\"MSE на валидации: {mse:.4f}\")"
   ],
   "metadata": {
    "collapsed": false,
    "ExecuteTime": {
     "end_time": "2025-03-28T13:50:34.770016600Z",
     "start_time": "2025-03-28T13:50:34.746552800Z"
    }
   },
   "id": "a1511ba745189a61"
  },
  {
   "cell_type": "markdown",
   "source": [
    "MSE на валидации: 48.37 оставлены все фичи в том числе не коррелированые\n",
    "MSE на валидации: 48.3595 без добавления фич  \n",
    "MSE на валидации: 43.3486 с добавлением фич\n",
    "MSE на валидации: 43.3474 с кросс валидацией и перебором параметров"
   ],
   "metadata": {
    "collapsed": false
   },
   "id": "ac9a0f709a28ba2e"
  },
  {
   "cell_type": "code",
   "execution_count": 36,
   "outputs": [
    {
     "name": "stdout",
     "output_type": "stream",
     "text": [
      "Предсказания сохранены в: predictions\\predictions_7.csv\n"
     ]
    },
    {
     "data": {
      "text/plain": "'predictions\\\\predictions_7.csv'"
     },
     "execution_count": 36,
     "metadata": {},
     "output_type": "execute_result"
    }
   ],
   "source": [
    "from src.utils import save_predictions\n",
    "\n",
    "y_pred = grid_search.predict(df_test)\n",
    "save_predictions(y_pred)"
   ],
   "metadata": {
    "collapsed": false,
    "ExecuteTime": {
     "end_time": "2025-03-28T14:01:57.142541400Z",
     "start_time": "2025-03-28T14:01:57.119939600Z"
    }
   },
   "id": "d023cf1d4f871b33"
  }
 ],
 "metadata": {
  "kernelspec": {
   "display_name": "Python 3",
   "language": "python",
   "name": "python3"
  },
  "language_info": {
   "codemirror_mode": {
    "name": "ipython",
    "version": 2
   },
   "file_extension": ".py",
   "mimetype": "text/x-python",
   "name": "python",
   "nbconvert_exporter": "python",
   "pygments_lexer": "ipython2",
   "version": "2.7.6"
  }
 },
 "nbformat": 4,
 "nbformat_minor": 5
}
