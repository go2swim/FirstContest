{
 "cells": [
  {
   "cell_type": "code",
   "execution_count": 2,
   "id": "initial_id",
   "metadata": {
    "collapsed": true,
    "ExecuteTime": {
     "end_time": "2025-03-26T19:24:54.540493200Z",
     "start_time": "2025-03-26T19:24:54.514454600Z"
    }
   },
   "outputs": [],
   "source": [
    "import pandas as pd\n",
    "import numpy as np\n",
    "import matplotlib.pyplot as plt\n",
    "import seaborn as sns\n",
    "import os\n",
    "\n",
    "path_to_data = \"data_pizdata\"\n",
    "random_state = 42"
   ]
  },
  {
   "cell_type": "code",
   "execution_count": 32,
   "outputs": [],
   "source": [
    "# В СКАЧАНЫХ ДАНЫХ НЕТ НАЗВАНИЯ СТОЛБЦОВ и он берёт за названия первую строку\n",
    "\n",
    "df_x_train = pd.read_csv(os.path.join(path_to_data, \"X_train.csv\"), delimiter=',', header=None)\n",
    "df_y_train = pd.read_csv(os.path.join(path_to_data, \"y_train.csv\"), delimiter=',', header=None)\n",
    "df_test = pd.read_csv(os.path.join(path_to_data, \"X_test.csv\"), delimiter=',', header=None)\n",
    "\n",
    "df_x_train.columns = [i for i in range(df_x_train.shape[1])]\n",
    "df_test.columns = df_x_train.columns"
   ],
   "metadata": {
    "collapsed": false,
    "ExecuteTime": {
     "end_time": "2025-03-26T19:56:33.520024Z",
     "start_time": "2025-03-26T19:56:33.351956200Z"
    }
   },
   "id": "d92e5ae9826c101a"
  },
  {
   "cell_type": "code",
   "execution_count": 33,
   "outputs": [
    {
     "data": {
      "text/plain": "         0         1         2         3    4    5         6         7   \\\n0  0.451009  0.614606  0.167306  0.390843  0.0  2.0  6.691263  6.792145   \n1  0.837123  0.558449  0.034198  0.839781  1.0  2.0  0.735178  0.324811   \n2  0.605636  0.350955  0.678408  0.568693  1.0  0.0  3.921524  6.610859   \n3  0.862016  0.205944  0.576584  0.198756  0.0  2.0  1.873797  4.482543   \n4  0.586450  0.767571  0.751014  0.642278  1.0  0.0  0.926542  6.928612   \n\n         8         9         10        11   12   13        14        15  \n0  1.185154  3.811872  0.175758  2.207100  0.0  2.0  6.691263  6.792145  \n1  1.575394  5.370452  6.851491  2.479178  1.0  2.0  0.735178  0.324811  \n2  1.959624  0.698998  6.002673  0.780729  1.0  0.0  3.921524  6.610859  \n3  1.652851  5.640393  0.702110  2.102840  0.0  2.0  1.873797  4.482543  \n4  1.676833  5.206752  4.588336  2.963444  1.0  0.0  0.926542  6.928612  ",
      "text/html": "<div>\n<style scoped>\n    .dataframe tbody tr th:only-of-type {\n        vertical-align: middle;\n    }\n\n    .dataframe tbody tr th {\n        vertical-align: top;\n    }\n\n    .dataframe thead th {\n        text-align: right;\n    }\n</style>\n<table border=\"1\" class=\"dataframe\">\n  <thead>\n    <tr style=\"text-align: right;\">\n      <th></th>\n      <th>0</th>\n      <th>1</th>\n      <th>2</th>\n      <th>3</th>\n      <th>4</th>\n      <th>5</th>\n      <th>6</th>\n      <th>7</th>\n      <th>8</th>\n      <th>9</th>\n      <th>10</th>\n      <th>11</th>\n      <th>12</th>\n      <th>13</th>\n      <th>14</th>\n      <th>15</th>\n    </tr>\n  </thead>\n  <tbody>\n    <tr>\n      <th>0</th>\n      <td>0.451009</td>\n      <td>0.614606</td>\n      <td>0.167306</td>\n      <td>0.390843</td>\n      <td>0.0</td>\n      <td>2.0</td>\n      <td>6.691263</td>\n      <td>6.792145</td>\n      <td>1.185154</td>\n      <td>3.811872</td>\n      <td>0.175758</td>\n      <td>2.207100</td>\n      <td>0.0</td>\n      <td>2.0</td>\n      <td>6.691263</td>\n      <td>6.792145</td>\n    </tr>\n    <tr>\n      <th>1</th>\n      <td>0.837123</td>\n      <td>0.558449</td>\n      <td>0.034198</td>\n      <td>0.839781</td>\n      <td>1.0</td>\n      <td>2.0</td>\n      <td>0.735178</td>\n      <td>0.324811</td>\n      <td>1.575394</td>\n      <td>5.370452</td>\n      <td>6.851491</td>\n      <td>2.479178</td>\n      <td>1.0</td>\n      <td>2.0</td>\n      <td>0.735178</td>\n      <td>0.324811</td>\n    </tr>\n    <tr>\n      <th>2</th>\n      <td>0.605636</td>\n      <td>0.350955</td>\n      <td>0.678408</td>\n      <td>0.568693</td>\n      <td>1.0</td>\n      <td>0.0</td>\n      <td>3.921524</td>\n      <td>6.610859</td>\n      <td>1.959624</td>\n      <td>0.698998</td>\n      <td>6.002673</td>\n      <td>0.780729</td>\n      <td>1.0</td>\n      <td>0.0</td>\n      <td>3.921524</td>\n      <td>6.610859</td>\n    </tr>\n    <tr>\n      <th>3</th>\n      <td>0.862016</td>\n      <td>0.205944</td>\n      <td>0.576584</td>\n      <td>0.198756</td>\n      <td>0.0</td>\n      <td>2.0</td>\n      <td>1.873797</td>\n      <td>4.482543</td>\n      <td>1.652851</td>\n      <td>5.640393</td>\n      <td>0.702110</td>\n      <td>2.102840</td>\n      <td>0.0</td>\n      <td>2.0</td>\n      <td>1.873797</td>\n      <td>4.482543</td>\n    </tr>\n    <tr>\n      <th>4</th>\n      <td>0.586450</td>\n      <td>0.767571</td>\n      <td>0.751014</td>\n      <td>0.642278</td>\n      <td>1.0</td>\n      <td>0.0</td>\n      <td>0.926542</td>\n      <td>6.928612</td>\n      <td>1.676833</td>\n      <td>5.206752</td>\n      <td>4.588336</td>\n      <td>2.963444</td>\n      <td>1.0</td>\n      <td>0.0</td>\n      <td>0.926542</td>\n      <td>6.928612</td>\n    </tr>\n  </tbody>\n</table>\n</div>"
     },
     "execution_count": 33,
     "metadata": {},
     "output_type": "execute_result"
    }
   ],
   "source": [
    "df_x_train.head()"
   ],
   "metadata": {
    "collapsed": false,
    "ExecuteTime": {
     "end_time": "2025-03-26T19:56:33.773017300Z",
     "start_time": "2025-03-26T19:56:33.741939200Z"
    }
   },
   "id": "83daa83a899b074f"
  },
  {
   "cell_type": "code",
   "execution_count": 34,
   "outputs": [
    {
     "data": {
      "text/plain": "         0         1         2         3    4    5    6         7         8   \\\n0  0.048373  0.466911  0.389070  0.321250  0.0  0.0  0.0  0.000000  0.279088   \n1  0.867465  0.621720  0.343289  0.186093  1.0  0.0  0.0  0.000000  1.336795   \n2  0.814926  0.433053  0.164681  0.977219  0.0  0.0  0.0  0.000000  1.593938   \n3  0.432321  0.425449  0.191574  0.026475  0.0  0.0  0.0  0.000000  0.012634   \n4  0.939396  0.433556  0.471259  0.727408  0.0  0.0  0.0  6.193863  1.504852   \n\n         9         10        11   12   13        14        15  \n0  3.198103  5.233288  1.622723  1.0  1.0  0.632456  4.717549  \n1  1.227167  7.584822  1.235540  1.0  0.0  2.343988  6.778029  \n2  5.118116  3.151805  1.382042  1.0  0.0  2.673265  0.511859  \n3  2.085054  1.525353  0.920855  1.0  0.0  4.940645  3.900637  \n4  4.992094  5.094022  1.900915  1.0  0.0  0.917297  6.193863  ",
      "text/html": "<div>\n<style scoped>\n    .dataframe tbody tr th:only-of-type {\n        vertical-align: middle;\n    }\n\n    .dataframe tbody tr th {\n        vertical-align: top;\n    }\n\n    .dataframe thead th {\n        text-align: right;\n    }\n</style>\n<table border=\"1\" class=\"dataframe\">\n  <thead>\n    <tr style=\"text-align: right;\">\n      <th></th>\n      <th>0</th>\n      <th>1</th>\n      <th>2</th>\n      <th>3</th>\n      <th>4</th>\n      <th>5</th>\n      <th>6</th>\n      <th>7</th>\n      <th>8</th>\n      <th>9</th>\n      <th>10</th>\n      <th>11</th>\n      <th>12</th>\n      <th>13</th>\n      <th>14</th>\n      <th>15</th>\n    </tr>\n  </thead>\n  <tbody>\n    <tr>\n      <th>0</th>\n      <td>0.048373</td>\n      <td>0.466911</td>\n      <td>0.389070</td>\n      <td>0.321250</td>\n      <td>0.0</td>\n      <td>0.0</td>\n      <td>0.0</td>\n      <td>0.000000</td>\n      <td>0.279088</td>\n      <td>3.198103</td>\n      <td>5.233288</td>\n      <td>1.622723</td>\n      <td>1.0</td>\n      <td>1.0</td>\n      <td>0.632456</td>\n      <td>4.717549</td>\n    </tr>\n    <tr>\n      <th>1</th>\n      <td>0.867465</td>\n      <td>0.621720</td>\n      <td>0.343289</td>\n      <td>0.186093</td>\n      <td>1.0</td>\n      <td>0.0</td>\n      <td>0.0</td>\n      <td>0.000000</td>\n      <td>1.336795</td>\n      <td>1.227167</td>\n      <td>7.584822</td>\n      <td>1.235540</td>\n      <td>1.0</td>\n      <td>0.0</td>\n      <td>2.343988</td>\n      <td>6.778029</td>\n    </tr>\n    <tr>\n      <th>2</th>\n      <td>0.814926</td>\n      <td>0.433053</td>\n      <td>0.164681</td>\n      <td>0.977219</td>\n      <td>0.0</td>\n      <td>0.0</td>\n      <td>0.0</td>\n      <td>0.000000</td>\n      <td>1.593938</td>\n      <td>5.118116</td>\n      <td>3.151805</td>\n      <td>1.382042</td>\n      <td>1.0</td>\n      <td>0.0</td>\n      <td>2.673265</td>\n      <td>0.511859</td>\n    </tr>\n    <tr>\n      <th>3</th>\n      <td>0.432321</td>\n      <td>0.425449</td>\n      <td>0.191574</td>\n      <td>0.026475</td>\n      <td>0.0</td>\n      <td>0.0</td>\n      <td>0.0</td>\n      <td>0.000000</td>\n      <td>0.012634</td>\n      <td>2.085054</td>\n      <td>1.525353</td>\n      <td>0.920855</td>\n      <td>1.0</td>\n      <td>0.0</td>\n      <td>4.940645</td>\n      <td>3.900637</td>\n    </tr>\n    <tr>\n      <th>4</th>\n      <td>0.939396</td>\n      <td>0.433556</td>\n      <td>0.471259</td>\n      <td>0.727408</td>\n      <td>0.0</td>\n      <td>0.0</td>\n      <td>0.0</td>\n      <td>6.193863</td>\n      <td>1.504852</td>\n      <td>4.992094</td>\n      <td>5.094022</td>\n      <td>1.900915</td>\n      <td>1.0</td>\n      <td>0.0</td>\n      <td>0.917297</td>\n      <td>6.193863</td>\n    </tr>\n  </tbody>\n</table>\n</div>"
     },
     "execution_count": 34,
     "metadata": {},
     "output_type": "execute_result"
    }
   ],
   "source": [
    "df_test.head()"
   ],
   "metadata": {
    "collapsed": false,
    "ExecuteTime": {
     "end_time": "2025-03-26T19:56:34.209164Z",
     "start_time": "2025-03-26T19:56:34.185293300Z"
    }
   },
   "id": "407a6246d047d6c4"
  },
  {
   "cell_type": "code",
   "execution_count": 35,
   "outputs": [
    {
     "name": "stdout",
     "output_type": "stream",
     "text": [
      "<class 'pandas.core.frame.DataFrame'>\n",
      "RangeIndex: 40000 entries, 0 to 39999\n",
      "Data columns (total 16 columns):\n",
      " #   Column  Non-Null Count  Dtype  \n",
      "---  ------  --------------  -----  \n",
      " 0   0       40000 non-null  float64\n",
      " 1   1       40000 non-null  float64\n",
      " 2   2       40000 non-null  float64\n",
      " 3   3       40000 non-null  float64\n",
      " 4   4       40000 non-null  float64\n",
      " 5   5       40000 non-null  float64\n",
      " 6   6       40000 non-null  float64\n",
      " 7   7       40000 non-null  float64\n",
      " 8   8       40000 non-null  float64\n",
      " 9   9       40000 non-null  float64\n",
      " 10  10      40000 non-null  float64\n",
      " 11  11      40000 non-null  float64\n",
      " 12  12      40000 non-null  float64\n",
      " 13  13      40000 non-null  float64\n",
      " 14  14      40000 non-null  float64\n",
      " 15  15      40000 non-null  float64\n",
      "dtypes: float64(16)\n",
      "memory usage: 4.9 MB\n"
     ]
    }
   ],
   "source": [
    "df_x_train.info()"
   ],
   "metadata": {
    "collapsed": false,
    "ExecuteTime": {
     "end_time": "2025-03-26T19:56:36.190590700Z",
     "start_time": "2025-03-26T19:56:36.173100400Z"
    }
   },
   "id": "435410b2e3ea9c51"
  },
  {
   "cell_type": "code",
   "execution_count": 36,
   "outputs": [
    {
     "data": {
      "text/plain": "                 0             1             2             3             4   \\\ncount  40000.000000  40000.000000  40000.000000  40000.000000  40000.000000   \nmean       0.500471      0.498729      0.502726      0.499792      0.499500   \nstd        0.289359      0.288434      0.289009      0.290115      0.500006   \nmin        0.000018      0.000020      0.000011      0.000021      0.000000   \n25%        0.251133      0.248532      0.252921      0.248177      0.000000   \n50%        0.499611      0.499261      0.504818      0.497016      0.000000   \n75%        0.751907      0.747167      0.753530      0.753823      1.000000   \nmax        0.999999      0.999998      0.999978      0.999991      1.000000   \n\n                 5             6             7             8             9   \\\ncount  40000.000000  40000.000000  40000.000000  40000.000000  40000.000000   \nmean       0.991275      3.492389      3.487816      1.002620      2.994680   \nstd        0.818209      2.016651      2.018964      0.574658      1.726063   \nmin        0.000000      0.000220      0.000100      0.000068      0.000015   \n25%        0.000000      1.731510      1.733274      0.507572      1.499907   \n50%        1.000000      3.502283      3.489752      1.004894      2.992040   \n75%        2.000000      5.230650      5.243342      1.500862      4.475840   \nmax        2.000000      6.999947      6.999826      1.999868      5.999870   \n\n                 10            11            12            13            14  \\\ncount  40000.000000  40000.000000  40000.000000  40000.000000  40000.000000   \nmean       4.500824      1.501175      0.499500      0.991275      3.492389   \nstd        2.594021      0.870372      0.500006      0.818209      2.016651   \nmin        0.000172      0.000113      0.000000      0.000000      0.000220   \n25%        2.271650      0.743164      0.000000      0.000000      1.731510   \n50%        4.492366      1.494108      0.000000      1.000000      3.502283   \n75%        6.740416      2.260100      1.000000      2.000000      5.230650   \nmax        8.998587      2.999977      1.000000      2.000000      6.999947   \n\n                 15  \ncount  40000.000000  \nmean       3.487816  \nstd        2.018964  \nmin        0.000100  \n25%        1.733274  \n50%        3.489752  \n75%        5.243342  \nmax        6.999826  ",
      "text/html": "<div>\n<style scoped>\n    .dataframe tbody tr th:only-of-type {\n        vertical-align: middle;\n    }\n\n    .dataframe tbody tr th {\n        vertical-align: top;\n    }\n\n    .dataframe thead th {\n        text-align: right;\n    }\n</style>\n<table border=\"1\" class=\"dataframe\">\n  <thead>\n    <tr style=\"text-align: right;\">\n      <th></th>\n      <th>0</th>\n      <th>1</th>\n      <th>2</th>\n      <th>3</th>\n      <th>4</th>\n      <th>5</th>\n      <th>6</th>\n      <th>7</th>\n      <th>8</th>\n      <th>9</th>\n      <th>10</th>\n      <th>11</th>\n      <th>12</th>\n      <th>13</th>\n      <th>14</th>\n      <th>15</th>\n    </tr>\n  </thead>\n  <tbody>\n    <tr>\n      <th>count</th>\n      <td>40000.000000</td>\n      <td>40000.000000</td>\n      <td>40000.000000</td>\n      <td>40000.000000</td>\n      <td>40000.000000</td>\n      <td>40000.000000</td>\n      <td>40000.000000</td>\n      <td>40000.000000</td>\n      <td>40000.000000</td>\n      <td>40000.000000</td>\n      <td>40000.000000</td>\n      <td>40000.000000</td>\n      <td>40000.000000</td>\n      <td>40000.000000</td>\n      <td>40000.000000</td>\n      <td>40000.000000</td>\n    </tr>\n    <tr>\n      <th>mean</th>\n      <td>0.500471</td>\n      <td>0.498729</td>\n      <td>0.502726</td>\n      <td>0.499792</td>\n      <td>0.499500</td>\n      <td>0.991275</td>\n      <td>3.492389</td>\n      <td>3.487816</td>\n      <td>1.002620</td>\n      <td>2.994680</td>\n      <td>4.500824</td>\n      <td>1.501175</td>\n      <td>0.499500</td>\n      <td>0.991275</td>\n      <td>3.492389</td>\n      <td>3.487816</td>\n    </tr>\n    <tr>\n      <th>std</th>\n      <td>0.289359</td>\n      <td>0.288434</td>\n      <td>0.289009</td>\n      <td>0.290115</td>\n      <td>0.500006</td>\n      <td>0.818209</td>\n      <td>2.016651</td>\n      <td>2.018964</td>\n      <td>0.574658</td>\n      <td>1.726063</td>\n      <td>2.594021</td>\n      <td>0.870372</td>\n      <td>0.500006</td>\n      <td>0.818209</td>\n      <td>2.016651</td>\n      <td>2.018964</td>\n    </tr>\n    <tr>\n      <th>min</th>\n      <td>0.000018</td>\n      <td>0.000020</td>\n      <td>0.000011</td>\n      <td>0.000021</td>\n      <td>0.000000</td>\n      <td>0.000000</td>\n      <td>0.000220</td>\n      <td>0.000100</td>\n      <td>0.000068</td>\n      <td>0.000015</td>\n      <td>0.000172</td>\n      <td>0.000113</td>\n      <td>0.000000</td>\n      <td>0.000000</td>\n      <td>0.000220</td>\n      <td>0.000100</td>\n    </tr>\n    <tr>\n      <th>25%</th>\n      <td>0.251133</td>\n      <td>0.248532</td>\n      <td>0.252921</td>\n      <td>0.248177</td>\n      <td>0.000000</td>\n      <td>0.000000</td>\n      <td>1.731510</td>\n      <td>1.733274</td>\n      <td>0.507572</td>\n      <td>1.499907</td>\n      <td>2.271650</td>\n      <td>0.743164</td>\n      <td>0.000000</td>\n      <td>0.000000</td>\n      <td>1.731510</td>\n      <td>1.733274</td>\n    </tr>\n    <tr>\n      <th>50%</th>\n      <td>0.499611</td>\n      <td>0.499261</td>\n      <td>0.504818</td>\n      <td>0.497016</td>\n      <td>0.000000</td>\n      <td>1.000000</td>\n      <td>3.502283</td>\n      <td>3.489752</td>\n      <td>1.004894</td>\n      <td>2.992040</td>\n      <td>4.492366</td>\n      <td>1.494108</td>\n      <td>0.000000</td>\n      <td>1.000000</td>\n      <td>3.502283</td>\n      <td>3.489752</td>\n    </tr>\n    <tr>\n      <th>75%</th>\n      <td>0.751907</td>\n      <td>0.747167</td>\n      <td>0.753530</td>\n      <td>0.753823</td>\n      <td>1.000000</td>\n      <td>2.000000</td>\n      <td>5.230650</td>\n      <td>5.243342</td>\n      <td>1.500862</td>\n      <td>4.475840</td>\n      <td>6.740416</td>\n      <td>2.260100</td>\n      <td>1.000000</td>\n      <td>2.000000</td>\n      <td>5.230650</td>\n      <td>5.243342</td>\n    </tr>\n    <tr>\n      <th>max</th>\n      <td>0.999999</td>\n      <td>0.999998</td>\n      <td>0.999978</td>\n      <td>0.999991</td>\n      <td>1.000000</td>\n      <td>2.000000</td>\n      <td>6.999947</td>\n      <td>6.999826</td>\n      <td>1.999868</td>\n      <td>5.999870</td>\n      <td>8.998587</td>\n      <td>2.999977</td>\n      <td>1.000000</td>\n      <td>2.000000</td>\n      <td>6.999947</td>\n      <td>6.999826</td>\n    </tr>\n  </tbody>\n</table>\n</div>"
     },
     "execution_count": 36,
     "metadata": {},
     "output_type": "execute_result"
    }
   ],
   "source": [
    "df_x_train.describe()"
   ],
   "metadata": {
    "collapsed": false,
    "ExecuteTime": {
     "end_time": "2025-03-26T19:56:37.144198Z",
     "start_time": "2025-03-26T19:56:37.046229200Z"
    }
   },
   "id": "1d3ce67d4365ad76"
  },
  {
   "cell_type": "code",
   "execution_count": 37,
   "outputs": [
    {
     "name": "stderr",
     "output_type": "stream",
     "text": [
      "Подбор гиперпараметров:   0%|          | 0/3 [00:00<?, ?модель/s]"
     ]
    },
    {
     "name": "stdout",
     "output_type": "stream",
     "text": [
      "\n",
      "Подбор гиперпараметров для RandomForest...\n"
     ]
    },
    {
     "name": "stderr",
     "output_type": "stream",
     "text": [
      "\n",
      "Обучение RandomForest:   0%|          | 0/10 [00:00<?, ?итерация/s]\u001B[A"
     ]
    },
    {
     "name": "stdout",
     "output_type": "stream",
     "text": [
      "Fitting 3 folds for each of 10 candidates, totalling 30 fits\n"
     ]
    },
    {
     "name": "stderr",
     "output_type": "stream",
     "text": [
      "D:\\Document\\SecCourseMATMEX\\ml\\FirstKaggleCompetition\\venv\\Lib\\site-packages\\sklearn\\base.py:1389: DataConversionWarning: A column-vector y was passed when a 1d array was expected. Please change the shape of y to (n_samples,), for example using ravel().\n",
      "  return fit_method(estimator, *args, **kwargs)\n",
      "\n",
      "Обучение RandomForest: 100%|██████████| 10/10 [04:56<00:00, 29.62s/итерация]\u001B[A\n",
      "Подбор гиперпараметров:  33%|███▎      | 1/3 [04:56<09:52, 296.21s/модель]"
     ]
    },
    {
     "name": "stdout",
     "output_type": "stream",
     "text": [
      "Лучший результат для RandomForest (MSE): 3.4659\n",
      "\n",
      "Подбор гиперпараметров для GradientBoosting...\n"
     ]
    },
    {
     "name": "stderr",
     "output_type": "stream",
     "text": [
      "\n",
      "Обучение GradientBoosting:   0%|          | 0/10 [00:00<?, ?итерация/s]\u001B[A"
     ]
    },
    {
     "name": "stdout",
     "output_type": "stream",
     "text": [
      "Fitting 3 folds for each of 10 candidates, totalling 30 fits\n"
     ]
    },
    {
     "name": "stderr",
     "output_type": "stream",
     "text": [
      "D:\\Document\\SecCourseMATMEX\\ml\\FirstKaggleCompetition\\venv\\Lib\\site-packages\\sklearn\\ensemble\\_gb.py:672: DataConversionWarning: A column-vector y was passed when a 1d array was expected. Please change the shape of y to (n_samples, ), for example using ravel().\n",
      "  y = column_or_1d(y, warn=True)  # TODO: Is this still required?\n",
      "\n",
      "Обучение GradientBoosting: 100%|██████████| 10/10 [05:17<00:00, 31.73s/итерация]\u001B[A\n",
      "Подбор гиперпараметров:  67%|██████▋   | 2/3 [10:13<05:08, 308.64s/модель]"
     ]
    },
    {
     "name": "stdout",
     "output_type": "stream",
     "text": [
      "Лучший результат для GradientBoosting (MSE): 0.8232\n",
      "\n",
      "Подбор гиперпараметров для CatBoost...\n"
     ]
    },
    {
     "name": "stderr",
     "output_type": "stream",
     "text": [
      "\n",
      "Обучение CatBoost:   0%|          | 0/10 [00:00<?, ?итерация/s]\u001B[A"
     ]
    },
    {
     "name": "stdout",
     "output_type": "stream",
     "text": [
      "Fitting 3 folds for each of 10 candidates, totalling 30 fits\n"
     ]
    },
    {
     "name": "stderr",
     "output_type": "stream",
     "text": [
      "\n",
      "Обучение CatBoost: 100%|██████████| 10/10 [00:28<00:00,  2.81s/итерация]\u001B[A\n",
      "Подбор гиперпараметров: 100%|██████████| 3/3 [10:41<00:00, 213.87s/модель]"
     ]
    },
    {
     "name": "stdout",
     "output_type": "stream",
     "text": [
      "Лучший результат для CatBoost (MSE): 0.1582\n",
      "\n",
      "Лучшая модель: CatBoost с MSE: 0.1582\n",
      "Выполняем предсказания...\n",
      "Предсказания сохранены в файл predictions.csv\n"
     ]
    },
    {
     "name": "stderr",
     "output_type": "stream",
     "text": [
      "\n"
     ]
    }
   ],
   "source": [
    "import pandas as pd\n",
    "from tqdm import tqdm\n",
    "from sklearn.model_selection import train_test_split, RandomizedSearchCV\n",
    "from sklearn.ensemble import RandomForestRegressor, GradientBoostingRegressor\n",
    "from catboost import CatBoostRegressor\n",
    "from sklearn.metrics import mean_squared_error\n",
    "\n",
    "X_train, X_test, y_train = df_x_train, df_test, df_y_train\n",
    "\n",
    "# Взял лучшие модели, просто посмотреть какие лучше решают задачу, в базовой комплектации\n",
    "models = {\n",
    "    'RandomForest': RandomForestRegressor(random_state=random_state),\n",
    "    'GradientBoosting': GradientBoostingRegressor(random_state=random_state),\n",
    "    'CatBoost': CatBoostRegressor(random_state=random_state, verbose=0)  # Это тоже градиентный бустинг тока от катбуста\n",
    "}\n",
    "\n",
    "param_grids = {\n",
    "    'RandomForest': {\n",
    "        'n_estimators': [100, 200, 300],\n",
    "        'max_depth': [None, 10, 20, 30],\n",
    "        'min_samples_split': [2, 5, 10]\n",
    "    },\n",
    "    'GradientBoosting': {\n",
    "        'n_estimators': [100, 200, 300],\n",
    "        'learning_rate': [0.01, 0.1, 0.2],\n",
    "        'max_depth': [3, 5, 7]\n",
    "    },\n",
    "    'CatBoost': {\n",
    "        'iterations': [100, 200, 300],\n",
    "        'learning_rate': [0.01, 0.1, 0.2],\n",
    "        'depth': [4, 6, 8]\n",
    "    }\n",
    "}\n",
    "\n",
    "best_models = {}\n",
    "best_scores = {}\n",
    "\n",
    "# Перебираем в тупую все гиперпараметры и смотрим на какиз лос минимален для каждой модели\n",
    "for name, model in tqdm(models.items(), desc=\"Подбор гирпараметров\", unit=\"модель\"):\n",
    "    print(f\"\\nПодбор гиперпараметров для {name}...\")\n",
    "    \n",
    "    search = RandomizedSearchCV(\n",
    "        estimator=model,\n",
    "        param_distributions=param_grids[name],\n",
    "        n_iter=10,\n",
    "        scoring='neg_mean_squared_error',  \n",
    "        cv=3,\n",
    "        random_state=42,\n",
    "        n_jobs=-1,\n",
    "        verbose=1  \n",
    "    )\n",
    "    \n",
    "    \n",
    "    search.fit(X_train, y_train)\n",
    "    \n",
    "    best_models[name] = search.best_estimator_\n",
    "    best_scores[name] = -search.best_score_\n",
    "    print(f\"Лучший результат для {name} (MSE): {best_scores[name]:.4f}\")\n",
    "\n",
    "# Выбираем по минимальному лосу лучшую модель\n",
    "best_model_name = min(best_scores, key=best_scores.get)\n",
    "best_model = best_models[best_model_name]\n",
    "print(f\"\\nЛучшая модель: {best_model_name} с MSE: {best_scores[best_model_name]:.4f}\")\n",
    "\n",
    "\n",
    "print(\"Выполняем предсказания...\")\n",
    "y_pred = best_model.predict(X_test)\n",
    "\n",
    "sumbission = pd.DataFrame(y_pred, columns=['y'])\n",
    "sumbission['ID'] = list(range(len(y_pred)))\n",
    "sumbission.to_csv('predictions.csv', sep=',', index=False)\n",
    "print(\"Предсказания сохранены в файл predictions.csv\")\n"
   ],
   "metadata": {
    "collapsed": false,
    "ExecuteTime": {
     "end_time": "2025-03-26T20:07:34.411170100Z",
     "start_time": "2025-03-26T19:56:52.746531600Z"
    }
   },
   "id": "a1511ba745189a61"
  },
  {
   "cell_type": "markdown",
   "source": [
    "### Результаты сравнения алгоритмов\n",
    "\n",
    "Лучший результат для RandomForest (MSE): 3.4659\n",
    "Лучший результат для GradientBoosting (MSE): 0.8232\n",
    "Лучшая модель: CatBoost с MSE: 0.1582\n"
   ],
   "metadata": {
    "collapsed": false
   },
   "id": "b85145e9bd5fd5b2"
  },
  {
   "cell_type": "markdown",
   "source": [],
   "metadata": {
    "collapsed": false
   },
   "id": "f98b6a59edf5e530"
  },
  {
   "cell_type": "code",
   "execution_count": null,
   "outputs": [],
   "source": [
    "#TODO добавить валидацию\n",
    "#TODO убрать выбросы и пропуски в данных\n",
    "#TODO посмотреть ноутбуки"
   ],
   "metadata": {
    "collapsed": false
   },
   "id": "188aeef05f5d317"
  }
 ],
 "metadata": {
  "kernelspec": {
   "display_name": "Python 3",
   "language": "python",
   "name": "python3"
  },
  "language_info": {
   "codemirror_mode": {
    "name": "ipython",
    "version": 2
   },
   "file_extension": ".py",
   "mimetype": "text/x-python",
   "name": "python",
   "nbconvert_exporter": "python",
   "pygments_lexer": "ipython2",
   "version": "2.7.6"
  }
 },
 "nbformat": 4,
 "nbformat_minor": 5
}
