{
 "cells": [
  {
   "cell_type": "markdown",
   "source": [
    "# Выдал метрику: 123.76\n",
    "## Валидация: 0.0503\n",
    "Никакой обработки и исследования данных нет. Просто загрузка данных, обучение и предсказание"
   ],
   "metadata": {
    "collapsed": false
   },
   "id": "99bf6da7c86b3645"
  },
  {
   "cell_type": "code",
   "execution_count": 5,
   "outputs": [],
   "source": [
    "import pandas as pd\n",
    "import numpy as np\n",
    "import matplotlib.pyplot as plt\n",
    "import seaborn as sns\n",
    "import os\n",
    "from sklearn.model_selection import train_test_split\n",
    "from sklearn.metrics import mean_squared_error\n",
    "from catboost import CatBoostRegressor\n",
    "from src.const import PATH_TO_DATA, RANDOM_STATE\n",
    "\n",
    "random_state = RANDOM_STATE"
   ],
   "metadata": {
    "collapsed": false,
    "ExecuteTime": {
     "end_time": "2025-03-27T13:21:29.701520900Z",
     "start_time": "2025-03-27T13:21:29.692550400Z"
    }
   },
   "id": "cb179c58628747f6"
  },
  {
   "cell_type": "code",
   "execution_count": 6,
   "id": "initial_id",
   "metadata": {
    "collapsed": true,
    "ExecuteTime": {
     "end_time": "2025-03-27T13:21:30.178428100Z",
     "start_time": "2025-03-27T13:21:30.009648300Z"
    }
   },
   "outputs": [],
   "source": [
    "from src.utils import load_data\n",
    "df_x_train, df_y_train, df_test = load_data()"
   ]
  },
  {
   "cell_type": "code",
   "execution_count": 7,
   "outputs": [],
   "source": [
    "from catboost import CatBoostRegressor\n",
    "\n",
    "X_train, X_val, y_train, y_val = train_test_split(\n",
    "    df_x_train,\n",
    "    df_y_train[0],  \n",
    "    test_size=0.2,\n",
    "    random_state=random_state\n",
    ")"
   ],
   "metadata": {
    "collapsed": false,
    "ExecuteTime": {
     "end_time": "2025-03-27T13:21:30.798667600Z",
     "start_time": "2025-03-27T13:21:30.773197600Z"
    }
   },
   "id": "7a286aca0504c0a4"
  },
  {
   "cell_type": "code",
   "execution_count": 8,
   "outputs": [
    {
     "name": "stdout",
     "output_type": "stream",
     "text": [
      "MSE на валидации: 0.0503\n"
     ]
    }
   ],
   "source": [
    "model = CatBoostRegressor(random_state=random_state, verbose=0)\n",
    "model.fit(X_train, y_train)\n",
    "\n",
    "val_pred = model.predict(X_val)\n",
    "mse = mean_squared_error(y_val, val_pred)\n",
    "print(f\"MSE на валидации: {mse:.4f}\")"
   ],
   "metadata": {
    "collapsed": false,
    "ExecuteTime": {
     "end_time": "2025-03-27T13:21:35.510007800Z",
     "start_time": "2025-03-27T13:21:31.280209300Z"
    }
   },
   "id": "75c5e2b93835da72"
  },
  {
   "cell_type": "code",
   "execution_count": 14,
   "outputs": [
    {
     "name": "stdout",
     "output_type": "stream",
     "text": [
      "Предсказания сохранены в: predictions\\predictions_2.csv\n"
     ]
    },
    {
     "data": {
      "text/plain": "'predictions\\\\predictions_2.csv'"
     },
     "execution_count": 14,
     "metadata": {},
     "output_type": "execute_result"
    }
   ],
   "source": [
    "from src.utils import save_predictions\n",
    "\n",
    "y_pred = model.predict(df_test)\n",
    "save_predictions(y_pred)"
   ],
   "metadata": {
    "collapsed": false,
    "ExecuteTime": {
     "end_time": "2025-03-27T13:20:13.246177400Z",
     "start_time": "2025-03-27T13:20:13.222149800Z"
    }
   },
   "id": "dc7e028376187d47"
  },
  {
   "cell_type": "code",
   "execution_count": null,
   "outputs": [],
   "source": [],
   "metadata": {
    "collapsed": false
   },
   "id": "1019d777bce381d8"
  }
 ],
 "metadata": {
  "kernelspec": {
   "display_name": "Python 3",
   "language": "python",
   "name": "python3"
  },
  "language_info": {
   "codemirror_mode": {
    "name": "ipython",
    "version": 2
   },
   "file_extension": ".py",
   "mimetype": "text/x-python",
   "name": "python",
   "nbconvert_exporter": "python",
   "pygments_lexer": "ipython2",
   "version": "2.7.6"
  }
 },
 "nbformat": 4,
 "nbformat_minor": 5
}
